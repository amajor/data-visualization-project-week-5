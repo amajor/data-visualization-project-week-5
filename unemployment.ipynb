{
 "cells": [
  {
   "cell_type": "markdown",
   "id": "1297862d-dff7-4cc0-ab34-0bc7cdc4c276",
   "metadata": {},
   "source": [
    "# Unemployment Claims in the United States\n",
    "\n",
    "Review the unemployment claims in the United State in 2019 and 2020.\n",
    "\n",
    "Original data from https://oui.doleta.gov/unemploy/claims.asp"
   ]
  },
  {
   "cell_type": "markdown",
   "id": "0ae6f0e7-3d27-49bd-83da-f4f05ea3a7fb",
   "metadata": {},
   "source": [
    "## Import Dependencies"
   ]
  },
  {
   "cell_type": "code",
   "execution_count": 1,
   "id": "23697c86-2285-42a0-bb18-cd8b8882a21a",
   "metadata": {},
   "outputs": [
    {
     "name": "stdout",
     "output_type": "stream",
     "text": [
      "pandas version:   1.2.4\n",
      "seaborn version:  0.11.1\n",
      "numpy version:    1.20.1\n"
     ]
    }
   ],
   "source": [
    "import pandas as pd\n",
    "import seaborn as sns\n",
    "from matplotlib import pyplot as plt\n",
    "import math\n",
    "import numpy as np\n",
    "import warnings\n",
    "\n",
    "print('pandas version:  ',pd. __version__)\n",
    "print('seaborn version: ',sns. __version__)\n",
    "print('numpy version:   ',np. __version__)"
   ]
  },
  {
   "cell_type": "markdown",
   "id": "911c0858-eccd-4c1b-ac9d-8f7c1d416551",
   "metadata": {},
   "source": [
    "## Grab Data\n",
    "\n",
    "Read the csv file and store it. Display the first 5 rows as a preview."
   ]
  },
  {
   "cell_type": "code",
   "execution_count": 2,
   "id": "10b2addb-e385-4938-a488-21a486729a46",
   "metadata": {},
   "outputs": [
    {
     "data": {
      "text/html": [
       "<div>\n",
       "<style scoped>\n",
       "    .dataframe tbody tr th:only-of-type {\n",
       "        vertical-align: middle;\n",
       "    }\n",
       "\n",
       "    .dataframe tbody tr th {\n",
       "        vertical-align: top;\n",
       "    }\n",
       "\n",
       "    .dataframe thead th {\n",
       "        text-align: right;\n",
       "    }\n",
       "</style>\n",
       "<table border=\"1\" class=\"dataframe\">\n",
       "  <thead>\n",
       "    <tr style=\"text-align: right;\">\n",
       "      <th></th>\n",
       "      <th>State</th>\n",
       "      <th>Year</th>\n",
       "      <th>Claims</th>\n",
       "      <th>Claims_in_millions</th>\n",
       "    </tr>\n",
       "  </thead>\n",
       "  <tbody>\n",
       "    <tr>\n",
       "      <th>0</th>\n",
       "      <td>California</td>\n",
       "      <td>2019</td>\n",
       "      <td>2099313</td>\n",
       "      <td>2.1</td>\n",
       "    </tr>\n",
       "    <tr>\n",
       "      <th>1</th>\n",
       "      <td>New York</td>\n",
       "      <td>2019</td>\n",
       "      <td>823926</td>\n",
       "      <td>0.8</td>\n",
       "    </tr>\n",
       "    <tr>\n",
       "      <th>2</th>\n",
       "      <td>Pennsylvania</td>\n",
       "      <td>2019</td>\n",
       "      <td>739399</td>\n",
       "      <td>0.7</td>\n",
       "    </tr>\n",
       "    <tr>\n",
       "      <th>3</th>\n",
       "      <td>Texas</td>\n",
       "      <td>2019</td>\n",
       "      <td>701860</td>\n",
       "      <td>0.7</td>\n",
       "    </tr>\n",
       "    <tr>\n",
       "      <th>4</th>\n",
       "      <td>New Jersey</td>\n",
       "      <td>2019</td>\n",
       "      <td>492540</td>\n",
       "      <td>0.5</td>\n",
       "    </tr>\n",
       "  </tbody>\n",
       "</table>\n",
       "</div>"
      ],
      "text/plain": [
       "          State  Year   Claims  Claims_in_millions\n",
       "0    California  2019  2099313                 2.1\n",
       "1      New York  2019   823926                 0.8\n",
       "2  Pennsylvania  2019   739399                 0.7\n",
       "3         Texas  2019   701860                 0.7\n",
       "4    New Jersey  2019   492540                 0.5"
      ]
     },
     "execution_count": 2,
     "metadata": {},
     "output_type": "execute_result"
    }
   ],
   "source": [
    "unemployment_data = pd.read_csv(r'./data/State_by_Year_Sorted.csv')\n",
    "\n",
    "# Check the first few rows\n",
    "unemployment_data.head()"
   ]
  },
  {
   "cell_type": "markdown",
   "id": "eb4258b9-9baf-40e6-950d-77bf4e640ca8",
   "metadata": {},
   "source": [
    "## Summarize the Numeric Columns\n",
    "\n",
    "We can use `describe()` to summarize the numeric columns.\n",
    "\n",
    "This will include the **Year** column, however, only the **Claims** column makes sense here."
   ]
  },
  {
   "cell_type": "code",
   "execution_count": 3,
   "id": "fceedcd2-5c1e-467f-a2ee-3cef46353015",
   "metadata": {},
   "outputs": [
    {
     "name": "stdout",
     "output_type": "stream",
     "text": [
      "Total Row Count = 106\n"
     ]
    },
    {
     "data": {
      "text/html": [
       "<div>\n",
       "<style scoped>\n",
       "    .dataframe tbody tr th:only-of-type {\n",
       "        vertical-align: middle;\n",
       "    }\n",
       "\n",
       "    .dataframe tbody tr th {\n",
       "        vertical-align: top;\n",
       "    }\n",
       "\n",
       "    .dataframe thead th {\n",
       "        text-align: right;\n",
       "    }\n",
       "</style>\n",
       "<table border=\"1\" class=\"dataframe\">\n",
       "  <thead>\n",
       "    <tr style=\"text-align: right;\">\n",
       "      <th></th>\n",
       "      <th>Year</th>\n",
       "      <th>Claims</th>\n",
       "      <th>Claims_in_millions</th>\n",
       "    </tr>\n",
       "  </thead>\n",
       "  <tbody>\n",
       "    <tr>\n",
       "      <th>count</th>\n",
       "      <td>106.000000</td>\n",
       "      <td>1.060000e+02</td>\n",
       "      <td>106.000000</td>\n",
       "    </tr>\n",
       "    <tr>\n",
       "      <th>mean</th>\n",
       "      <td>2019.500000</td>\n",
       "      <td>7.702800e+05</td>\n",
       "      <td>0.771698</td>\n",
       "    </tr>\n",
       "    <tr>\n",
       "      <th>std</th>\n",
       "      <td>0.502375</td>\n",
       "      <td>1.432701e+06</td>\n",
       "      <td>1.431134</td>\n",
       "    </tr>\n",
       "    <tr>\n",
       "      <th>min</th>\n",
       "      <td>2019.000000</td>\n",
       "      <td>1.532000e+03</td>\n",
       "      <td>0.000000</td>\n",
       "    </tr>\n",
       "    <tr>\n",
       "      <th>25%</th>\n",
       "      <td>2019.000000</td>\n",
       "      <td>1.010010e+05</td>\n",
       "      <td>0.100000</td>\n",
       "    </tr>\n",
       "    <tr>\n",
       "      <th>50%</th>\n",
       "      <td>2019.500000</td>\n",
       "      <td>2.830210e+05</td>\n",
       "      <td>0.300000</td>\n",
       "    </tr>\n",
       "    <tr>\n",
       "      <th>75%</th>\n",
       "      <td>2020.000000</td>\n",
       "      <td>8.377425e+05</td>\n",
       "      <td>0.800000</td>\n",
       "    </tr>\n",
       "    <tr>\n",
       "      <th>max</th>\n",
       "      <td>2020.000000</td>\n",
       "      <td>1.153777e+07</td>\n",
       "      <td>11.500000</td>\n",
       "    </tr>\n",
       "  </tbody>\n",
       "</table>\n",
       "</div>"
      ],
      "text/plain": [
       "              Year        Claims  Claims_in_millions\n",
       "count   106.000000  1.060000e+02          106.000000\n",
       "mean   2019.500000  7.702800e+05            0.771698\n",
       "std       0.502375  1.432701e+06            1.431134\n",
       "min    2019.000000  1.532000e+03            0.000000\n",
       "25%    2019.000000  1.010010e+05            0.100000\n",
       "50%    2019.500000  2.830210e+05            0.300000\n",
       "75%    2020.000000  8.377425e+05            0.800000\n",
       "max    2020.000000  1.153777e+07           11.500000"
      ]
     },
     "execution_count": 3,
     "metadata": {},
     "output_type": "execute_result"
    }
   ],
   "source": [
    "# Summarize the numeric columns\n",
    "print('Total Row Count =', len(unemployment_data))\n",
    "unemployment_data.describe()"
   ]
  },
  {
   "cell_type": "markdown",
   "id": "9ff50a60-c9a2-4b97-9f0f-7b61712f5136",
   "metadata": {},
   "source": [
    "## Confirm Years in Data\n",
    "\n",
    "Confirm that our data set only contains data for **2019** and **2020**."
   ]
  },
  {
   "cell_type": "code",
   "execution_count": 4,
   "id": "9b15655c-60d7-437f-a053-c471cb9b4a37",
   "metadata": {},
   "outputs": [
    {
     "name": "stdout",
     "output_type": "stream",
     "text": [
      "Years:  [2019 2020]\n",
      "Number of years is 2?  True\n"
     ]
    }
   ],
   "source": [
    "# Confirm the number of years in the data.\n",
    "\n",
    "data_years = unemployment_data['Year'].unique()\n",
    "print('Years: ', data_years)\n",
    "\n",
    "expected_number_of_years = 2\n",
    "print('Number of years is 2? ',len(data_years) == 2)"
   ]
  },
  {
   "cell_type": "markdown",
   "id": "3c3175d6-f158-4d58-8d48-86789e8e8a11",
   "metadata": {},
   "source": [
    "## Summarize Claims Column"
   ]
  },
  {
   "cell_type": "code",
   "execution_count": 5,
   "id": "e0112c70-2fbd-40c7-a294-e47353c0c7b9",
   "metadata": {},
   "outputs": [
    {
     "data": {
      "text/plain": [
       "count    106.000000\n",
       "mean       0.771698\n",
       "std        1.431134\n",
       "min        0.000000\n",
       "25%        0.100000\n",
       "50%        0.300000\n",
       "75%        0.800000\n",
       "max       11.500000\n",
       "Name: Claims_in_millions, dtype: float64"
      ]
     },
     "execution_count": 5,
     "metadata": {},
     "output_type": "execute_result"
    }
   ],
   "source": [
    "# Define the column that we'll be plotting\n",
    "desired_column = 'Claims_in_millions'\n",
    "\n",
    "# Summarize the Claims column\n",
    "unemployment_data[desired_column].describe()"
   ]
  },
  {
   "cell_type": "markdown",
   "id": "85a66296-9f77-4109-a70e-df77b1417ea7",
   "metadata": {},
   "source": [
    "## Exclude Outliers\n",
    "\n",
    "Looking at the Claims data, we can assume some outliers beyond the lower 25% and upper 75%.\n",
    "\n",
    "* 25% --> 0.1\n",
    "* 75% --> 0.8\n",
    "\n",
    "Let's round to get some cutoffs:\n",
    "\n",
    "* Minimum --> 0\n",
    "* Maximum --> 1\n",
    "\n",
    "We'll also create two new data sets.\n",
    "\n",
    "* 2019 --> `unemployment_2019`\n",
    "* 2020 --> `unemployment_2020`"
   ]
  },
  {
   "cell_type": "code",
   "execution_count": 6,
   "id": "0ab2c7bc-37ef-4db2-bda6-fa554ffd598a",
   "metadata": {},
   "outputs": [
    {
     "data": {
      "text/html": [
       "<div>\n",
       "<style scoped>\n",
       "    .dataframe tbody tr th:only-of-type {\n",
       "        vertical-align: middle;\n",
       "    }\n",
       "\n",
       "    .dataframe tbody tr th {\n",
       "        vertical-align: top;\n",
       "    }\n",
       "\n",
       "    .dataframe thead th {\n",
       "        text-align: right;\n",
       "    }\n",
       "</style>\n",
       "<table border=\"1\" class=\"dataframe\">\n",
       "  <thead>\n",
       "    <tr style=\"text-align: right;\">\n",
       "      <th></th>\n",
       "      <th>State</th>\n",
       "      <th>Year</th>\n",
       "      <th>Claims</th>\n",
       "      <th>Claims_in_millions</th>\n",
       "    </tr>\n",
       "  </thead>\n",
       "  <tbody>\n",
       "    <tr>\n",
       "      <th>1</th>\n",
       "      <td>New York</td>\n",
       "      <td>2019</td>\n",
       "      <td>823926</td>\n",
       "      <td>0.8</td>\n",
       "    </tr>\n",
       "    <tr>\n",
       "      <th>2</th>\n",
       "      <td>Pennsylvania</td>\n",
       "      <td>2019</td>\n",
       "      <td>739399</td>\n",
       "      <td>0.7</td>\n",
       "    </tr>\n",
       "    <tr>\n",
       "      <th>3</th>\n",
       "      <td>Texas</td>\n",
       "      <td>2019</td>\n",
       "      <td>701860</td>\n",
       "      <td>0.7</td>\n",
       "    </tr>\n",
       "    <tr>\n",
       "      <th>4</th>\n",
       "      <td>New Jersey</td>\n",
       "      <td>2019</td>\n",
       "      <td>492540</td>\n",
       "      <td>0.5</td>\n",
       "    </tr>\n",
       "    <tr>\n",
       "      <th>5</th>\n",
       "      <td>Illinois</td>\n",
       "      <td>2019</td>\n",
       "      <td>489831</td>\n",
       "      <td>0.5</td>\n",
       "    </tr>\n",
       "  </tbody>\n",
       "</table>\n",
       "</div>"
      ],
      "text/plain": [
       "          State  Year  Claims  Claims_in_millions\n",
       "1      New York  2019  823926                 0.8\n",
       "2  Pennsylvania  2019  739399                 0.7\n",
       "3         Texas  2019  701860                 0.7\n",
       "4    New Jersey  2019  492540                 0.5\n",
       "5      Illinois  2019  489831                 0.5"
      ]
     },
     "execution_count": 6,
     "metadata": {},
     "output_type": "execute_result"
    }
   ],
   "source": [
    "# Exclude outliers\n",
    "cutoff_min = 0\n",
    "cutoff_max = 1\n",
    "unemployment_data_limited = unemployment_data[unemployment_data[desired_column].between(cutoff_min, cutoff_max)]\n",
    "\n",
    "# Check the first few rows\n",
    "unemployment_data_limited.head()"
   ]
  },
  {
   "cell_type": "code",
   "execution_count": 7,
   "id": "a0273e42-2217-47c4-bc30-5ca54ff1b41f",
   "metadata": {},
   "outputs": [
    {
     "data": {
      "text/html": [
       "<div>\n",
       "<style scoped>\n",
       "    .dataframe tbody tr th:only-of-type {\n",
       "        vertical-align: middle;\n",
       "    }\n",
       "\n",
       "    .dataframe tbody tr th {\n",
       "        vertical-align: top;\n",
       "    }\n",
       "\n",
       "    .dataframe thead th {\n",
       "        text-align: right;\n",
       "    }\n",
       "</style>\n",
       "<table border=\"1\" class=\"dataframe\">\n",
       "  <thead>\n",
       "    <tr style=\"text-align: right;\">\n",
       "      <th></th>\n",
       "      <th>State</th>\n",
       "      <th>Year</th>\n",
       "      <th>Claims</th>\n",
       "      <th>Claims_in_millions</th>\n",
       "    </tr>\n",
       "  </thead>\n",
       "  <tbody>\n",
       "    <tr>\n",
       "      <th>1</th>\n",
       "      <td>New York</td>\n",
       "      <td>2019</td>\n",
       "      <td>823926</td>\n",
       "      <td>0.8</td>\n",
       "    </tr>\n",
       "    <tr>\n",
       "      <th>2</th>\n",
       "      <td>Pennsylvania</td>\n",
       "      <td>2019</td>\n",
       "      <td>739399</td>\n",
       "      <td>0.7</td>\n",
       "    </tr>\n",
       "    <tr>\n",
       "      <th>3</th>\n",
       "      <td>Texas</td>\n",
       "      <td>2019</td>\n",
       "      <td>701860</td>\n",
       "      <td>0.7</td>\n",
       "    </tr>\n",
       "    <tr>\n",
       "      <th>4</th>\n",
       "      <td>New Jersey</td>\n",
       "      <td>2019</td>\n",
       "      <td>492540</td>\n",
       "      <td>0.5</td>\n",
       "    </tr>\n",
       "    <tr>\n",
       "      <th>5</th>\n",
       "      <td>Illinois</td>\n",
       "      <td>2019</td>\n",
       "      <td>489831</td>\n",
       "      <td>0.5</td>\n",
       "    </tr>\n",
       "  </tbody>\n",
       "</table>\n",
       "</div>"
      ],
      "text/plain": [
       "          State  Year  Claims  Claims_in_millions\n",
       "1      New York  2019  823926                 0.8\n",
       "2  Pennsylvania  2019  739399                 0.7\n",
       "3         Texas  2019  701860                 0.7\n",
       "4    New Jersey  2019  492540                 0.5\n",
       "5      Illinois  2019  489831                 0.5"
      ]
     },
     "execution_count": 7,
     "metadata": {},
     "output_type": "execute_result"
    }
   ],
   "source": [
    "# Create a collection of claims for each year (2019)\n",
    "unemployment_2019 = unemployment_data_limited[(unemployment_data_limited.Year == 2019)]\n",
    "\n",
    "# Check the first few rows of each (2019)\n",
    "unemployment_2019.head()"
   ]
  },
  {
   "cell_type": "code",
   "execution_count": 8,
   "id": "e20fccc3-d90b-4706-8e6d-91d7198c648c",
   "metadata": {},
   "outputs": [
    {
     "data": {
      "text/html": [
       "<div>\n",
       "<style scoped>\n",
       "    .dataframe tbody tr th:only-of-type {\n",
       "        vertical-align: middle;\n",
       "    }\n",
       "\n",
       "    .dataframe tbody tr th {\n",
       "        vertical-align: top;\n",
       "    }\n",
       "\n",
       "    .dataframe thead th {\n",
       "        text-align: right;\n",
       "    }\n",
       "</style>\n",
       "<table border=\"1\" class=\"dataframe\">\n",
       "  <thead>\n",
       "    <tr style=\"text-align: right;\">\n",
       "      <th></th>\n",
       "      <th>State</th>\n",
       "      <th>Year</th>\n",
       "      <th>Claims</th>\n",
       "      <th>Claims_in_millions</th>\n",
       "    </tr>\n",
       "  </thead>\n",
       "  <tbody>\n",
       "    <tr>\n",
       "      <th>74</th>\n",
       "      <td>Missouri</td>\n",
       "      <td>2020</td>\n",
       "      <td>1014897</td>\n",
       "      <td>1.0</td>\n",
       "    </tr>\n",
       "    <tr>\n",
       "      <th>75</th>\n",
       "      <td>Tennessee</td>\n",
       "      <td>2020</td>\n",
       "      <td>981814</td>\n",
       "      <td>1.0</td>\n",
       "    </tr>\n",
       "    <tr>\n",
       "      <th>76</th>\n",
       "      <td>Oklahoma</td>\n",
       "      <td>2020</td>\n",
       "      <td>972453</td>\n",
       "      <td>1.0</td>\n",
       "    </tr>\n",
       "    <tr>\n",
       "      <th>77</th>\n",
       "      <td>Alabama</td>\n",
       "      <td>2020</td>\n",
       "      <td>917838</td>\n",
       "      <td>0.9</td>\n",
       "    </tr>\n",
       "    <tr>\n",
       "      <th>78</th>\n",
       "      <td>South Carolina</td>\n",
       "      <td>2020</td>\n",
       "      <td>842348</td>\n",
       "      <td>0.8</td>\n",
       "    </tr>\n",
       "  </tbody>\n",
       "</table>\n",
       "</div>"
      ],
      "text/plain": [
       "             State  Year   Claims  Claims_in_millions\n",
       "74        Missouri  2020  1014897                 1.0\n",
       "75       Tennessee  2020   981814                 1.0\n",
       "76        Oklahoma  2020   972453                 1.0\n",
       "77         Alabama  2020   917838                 0.9\n",
       "78  South Carolina  2020   842348                 0.8"
      ]
     },
     "execution_count": 8,
     "metadata": {},
     "output_type": "execute_result"
    }
   ],
   "source": [
    "# Create a collection of claims for each year (2020)\n",
    "unemployment_2020 = unemployment_data_limited[(unemployment_data_limited.Year == 2020)]\n",
    "\n",
    "# Check the first few rows of each (2020)\n",
    "unemployment_2020.head()"
   ]
  },
  {
   "cell_type": "markdown",
   "id": "ef7060d7-d211-407a-a5e6-213d426c6151",
   "metadata": {},
   "source": [
    "## Create Boxplots\n",
    "\n",
    "Create a boxplot with our new datasets, `unemployment_2019` and `unemployment_2020`."
   ]
  },
  {
   "cell_type": "code",
   "execution_count": 10,
   "id": "eab3707f-1e79-40dc-a67f-3427913d98f9",
   "metadata": {},
   "outputs": [
    {
     "data": {
      "text/plain": [
       "Text(0, 0.5, 'Claims')"
      ]
     },
     "execution_count": 10,
     "metadata": {},
     "output_type": "execute_result"
    },
    {
     "data": {
      "image/png": "[encoded data removed]",
      "text/plain": [
       "<Figure size 432x288 with 1 Axes>"
      ]
     },
     "metadata": {
      "needs_background": "light"
     },
     "output_type": "display_data"
    }
   ],
   "source": [
    "# Create a collection of claims for each year (2020)\n",
    "unemployment_2020_full = unemployment_data[(unemployment_data.Year == 2020)]\n",
    "\n",
    "# Create a collection of claims for each year (2020)\n",
    "unemployment_2019_full = unemployment_data[(unemployment_data.Year == 2019)]\n",
    "\n",
    "# Create a box plot for each year.\n",
    "plt.boxplot([unemployment_2019_full[desired_column], unemployment_2020_full[desired_column]], labels=['2019', '2020'])\n",
    "plt.ylabel('Claims')"
   ]
  },
  {
   "cell_type": "code",
   "execution_count": 9,
   "id": "0f03c898-ecc8-4178-9d2c-62f6dffba5be",
   "metadata": {},
   "outputs": [
    {
     "data": {
      "text/plain": [
       "Text(0, 0.5, 'Claims')"
      ]
     },
     "execution_count": 9,
     "metadata": {},
     "output_type": "execute_result"
    },
    {
     "data": {
      "image/png": "[encoded data removed]",
      "text/plain": [
       "<Figure size 432x288 with 1 Axes>"
      ]
     },
     "metadata": {
      "needs_background": "light"
     },
     "output_type": "display_data"
    }
   ],
   "source": [
    "# Create a box plot for each year.\n",
    "plt.boxplot([unemployment_2019[desired_column], unemployment_2020[desired_column]], labels=['2019', '2020'])\n",
    "plt.ylabel('Claims')"
   ]
  },
  {
   "cell_type": "markdown",
   "id": "c65ad9a3-8062-478d-b307-7eff3279a953",
   "metadata": {},
   "source": [
    "## Create Histogram for 2019"
   ]
  },
  {
   "cell_type": "code",
   "execution_count": 11,
   "id": "d8a768cb-c344-4a5e-bea5-0d21cd9f78e5",
   "metadata": {},
   "outputs": [
    {
     "data": {
      "image/png": "[encoded data removed]",
      "text/plain": [
       "<Figure size 432x288 with 1 Axes>"
      ]
     },
     "metadata": {
      "needs_background": "light"
     },
     "output_type": "display_data"
    }
   ],
   "source": [
    "# bin_size = 5\n",
    "# maximum = max(unemployment_2019[desired_column])\n",
    "# minimum = min(unemployment_2019[desired_column])\n",
    "# bins = math.ceil((maximum - minimum) / bin_size)\n",
    "\n",
    "plt.hist(unemployment_2019[desired_column])\n",
    "plt.xlabel('Claims in Millions ($)')\n",
    "plt.ylabel('Frequency')\n",
    "plt.title('Histogram of Unemployment Claims in all stats in 2019');\n",
    "plt.show() "
   ]
  },
  {
   "cell_type": "markdown",
   "id": "4f889515-66b1-4551-938a-1d960aaaea5f",
   "metadata": {},
   "source": [
    "## Create Histogram for 2020"
   ]
  },
  {
   "cell_type": "code",
   "execution_count": 12,
   "id": "55141fb1-b320-444a-9547-43136ccb432d",
   "metadata": {},
   "outputs": [
    {
     "data": {
      "image/png": "[encoded data removed]",
      "text/plain": [
       "<Figure size 432x288 with 1 Axes>"
      ]
     },
     "metadata": {
      "needs_background": "light"
     },
     "output_type": "display_data"
    }
   ],
   "source": [
    "# bin_size = 5\n",
    "# maximum = max(unemployment_2020[desired_column])\n",
    "# minimum = min(unemployment_2020[desired_column])\n",
    "# bins = math.ceil((maximum - minimum) / bin_size)\n",
    "\n",
    "plt.hist(unemployment_2020[desired_column])\n",
    "plt.xlabel('Claims in Millions ($)')\n",
    "plt.ylabel('Frequency')\n",
    "plt.title('Histogram of Unemployment Claims in all stats in 2020');\n",
    "plt.show() "
   ]
  },
  {
   "cell_type": "markdown",
   "id": "2edde870-1eda-444d-8466-6be5360855d2",
   "metadata": {},
   "source": [
    "## Side-by-Side (Limited Set)"
   ]
  },
  {
   "cell_type": "code",
   "execution_count": 13,
   "id": "09dcec58-21f7-47c4-8994-94e3de8bf8e1",
   "metadata": {},
   "outputs": [
    {
     "data": {
      "text/plain": [
       "Text(0.5, 1.05, 'COVID Impact on Unemployment Claims (Removed Outliers)')"
      ]
     },
     "execution_count": 13,
     "metadata": {},
     "output_type": "execute_result"
    },
    {
     "data": {
      "image/png": "[encoded data removed]",
      "text/plain": [
       "<Figure size 1000x250 with 2 Axes>"
      ]
     },
     "metadata": {
      "needs_background": "light"
     },
     "output_type": "display_data"
    }
   ],
   "source": [
    "fig, axes = plt.subplots(1, 2, figsize=(10,2.5), dpi=100, sharex=True, sharey=True)\n",
    "colors = ['tab:blue', 'tab:red']\n",
    "\n",
    "for i, (ax, Year) in enumerate(zip(axes.flatten(), unemployment_data_limited.Year.unique())):\n",
    "    x = unemployment_data_limited.loc[unemployment_data_limited.Year==Year, 'Claims_in_millions']\n",
    "    ax.hist(x, bins=10, label=str(Year), color=colors[i], edgecolor = 'black')\n",
    "    ax.set_title(Year)\n",
    "    ax.set_xlabel('Claims (in millions)', fontsize = 12, color = 'b')\n",
    "    \n",
    "plt.ylim(0, 25)\n",
    "\n",
    "plt.suptitle('COVID Impact on Unemployment Claims (Removed Outliers)', y=1.05, size=16)\n",
    "#plt.tight_layout();"
   ]
  },
  {
   "cell_type": "markdown",
   "id": "03586339-f36f-4f21-8f6f-550921327a1b",
   "metadata": {},
   "source": [
    "## Side-by-Side (Original Set)"
   ]
  },
  {
   "cell_type": "code",
   "execution_count": 14,
   "id": "409a186b-fc6e-4692-ba2b-687d934fe372",
   "metadata": {},
   "outputs": [
    {
     "data": {
      "text/plain": [
       "Text(0.5, 1.05, 'COVID Impact on Unemployment Claims (Full Set)')"
      ]
     },
     "execution_count": 14,
     "metadata": {},
     "output_type": "execute_result"
    },
    {
     "data": {
      "image/png": "[encoded data removed]",
      "text/plain": [
       "<Figure size 1000x250 with 2 Axes>"
      ]
     },
     "metadata": {
      "needs_background": "light"
     },
     "output_type": "display_data"
    }
   ],
   "source": [
    "fig, axes = plt.subplots(1, 2, figsize=(10,2.5), dpi=100, sharex=True, sharey=True)\n",
    "colors = ['tab:blue', 'tab:red']\n",
    "\n",
    "for i, (ax, Year) in enumerate(zip(axes.flatten(), unemployment_data.Year.unique())):\n",
    "    x = unemployment_data.loc[unemployment_data.Year==Year, 'Claims_in_millions']\n",
    "    ax.hist(x, bins=20, label=str(Year), color=colors[i], edgecolor = 'black')\n",
    "    ax.set_title(Year)\n",
    "    ax.set_xlabel('Claims (in millions)', fontsize = 12, color = 'b')\n",
    "    \n",
    "plt.ylim(0, 40)\n",
    "\n",
    "plt.suptitle('COVID Impact on Unemployment Claims (Full Set)', y=1.05, size=16)"
   ]
  },
  {
   "cell_type": "code",
   "execution_count": 15,
   "id": "92803ee7-1254-4392-b035-52463a5ff884",
   "metadata": {},
   "outputs": [
    {
     "data": {
      "text/plain": [
       "Text(0.5, 1.05, 'COVID Impact on Unemployment Claims')"
      ]
     },
     "execution_count": 15,
     "metadata": {},
     "output_type": "execute_result"
    },
    {
     "data": {
      "image/png": "[encoded data removed]",
      "text/plain": [
       "<Figure size 1000x250 with 2 Axes>"
      ]
     },
     "metadata": {
      "needs_background": "light"
     },
     "output_type": "display_data"
    },
    {
     "data": {
      "text/plain": [
       "<Figure size 800x560 with 0 Axes>"
      ]
     },
     "metadata": {},
     "output_type": "display_data"
    }
   ],
   "source": [
    "x_column='Claims_in_millions'\n",
    "x_label='Claims (in millions)'\n",
    "bin_count=20\n",
    "kwargs = dict(hist_kws={'alpha':.6}, kde_kws={'linewidth':2})\n",
    "\n",
    "fig, axes = plt.subplots(1, 2, figsize=(10,2.5), dpi=100, sharex=True, sharey=True)\n",
    "colors = ['tab:red', 'tab:blue']\n",
    "\n",
    "for i, (ax, Year) in enumerate(\n",
    "    zip(\n",
    "        axes.flatten(), \n",
    "        unemployment_data.Year.unique()\n",
    "    )\n",
    "):\n",
    "    x = unemployment_data.loc[unemployment_data.Year==Year, x_column]\n",
    "    \n",
    "    # Histogram\n",
    "    ax.hist(x, bins=bin_count, label=str(Year), color=colors[i], edgecolor = 'black')\n",
    "    ax.set_title(Year)\n",
    "    ax.set_xlabel(x_label, fontsize = 12, color = 'b')\n",
    "    \n",
    "    # Distribution Plot\n",
    "    sns.histplot(data=unemployment_data, x=x_column, kde=True)\n",
    "    # sns.distplot(x, bins=bin_count, color='black', **kwargs)\n",
    "    \n",
    "plt.ylim(0, 40)\n",
    "plt.figure(figsize=(10,7), dpi= 80)\n",
    "\n",
    "plt.suptitle('COVID Impact on Unemployment Claims', y=1.05, size=16)\n",
    "\n",
    "# Import data\n",
    "# x1 = unemployment_data.loc[unemployment_data.Year==2019, x_column]\n",
    "# x2 = unemployment_data.loc[unemployment_data.Year==2020, x_column]\n",
    "\n",
    "# Plot\n",
    "# kwargs = dict(hist_kws={'alpha':.6}, kde_kws={'linewidth':2})\n",
    "\n",
    "# plt.figure(figsize=(10,7), dpi= 80)\n",
    "# sns.distplot(x1, color=\"dodgerblue\", label=\"Compact\", **kwargs)\n",
    "# sns.distplot(x2, color=\"orange\", label=\"SUV\", **kwargs)\n",
    "# plt.legend();"
   ]
  },
  {
   "cell_type": "code",
   "execution_count": 16,
   "id": "9a188183-c723-4432-a045-dd1a42fa88ea",
   "metadata": {},
   "outputs": [
    {
     "name": "stderr",
     "output_type": "stream",
     "text": [
      "/opt/anaconda3/lib/python3.8/site-packages/seaborn/distributions.py:2557: FutureWarning: `distplot` is a deprecated function and will be removed in a future version. Please adapt your code to use either `displot` (a figure-level function with similar flexibility) or `histplot` (an axes-level function for histograms).\n",
      "  warnings.warn(msg, FutureWarning)\n",
      "/opt/anaconda3/lib/python3.8/site-packages/seaborn/distributions.py:2557: FutureWarning: `distplot` is a deprecated function and will be removed in a future version. Please adapt your code to use either `displot` (a figure-level function with similar flexibility) or `histplot` (an axes-level function for histograms).\n",
      "  warnings.warn(msg, FutureWarning)\n"
     ]
    },
    {
     "data": {
      "image/png": "[encoded data removed]",
      "text/plain": [
       "<Figure size 800x560 with 1 Axes>"
      ]
     },
     "metadata": {
      "needs_background": "light"
     },
     "output_type": "display_data"
    }
   ],
   "source": [
    "# Import data\n",
    "x1 = unemployment_data.loc[unemployment_data.Year==2019, x_column]\n",
    "x2 = unemployment_data.loc[unemployment_data.Year==2020, x_column]\n",
    "\n",
    "# Plot\n",
    "kwargs = dict(hist_kws={'alpha':.6}, kde_kws={'linewidth':2})\n",
    "\n",
    "plt.figure(figsize=(10,7), dpi= 80)\n",
    "sns.distplot(x1, color=\"dodgerblue\", label=\"Compact\", **kwargs)\n",
    "sns.distplot(x2, color=\"orange\", label=\"SUV\", **kwargs)\n",
    "plt.legend();"
   ]
  },
  {
   "cell_type": "code",
   "execution_count": 17,
   "id": "84f9cfca-3a61-45a9-9c1e-4c23fbac8e66",
   "metadata": {},
   "outputs": [
    {
     "data": {
      "text/plain": [
       "Text(0.5, 1.05, 'COVID Impact on Unemployment Claims')"
      ]
     },
     "execution_count": 17,
     "metadata": {},
     "output_type": "execute_result"
    },
    {
     "data": {
      "image/png": "[encoded data removed]",
      "text/plain": [
       "<Figure size 1000x250 with 1 Axes>"
      ]
     },
     "metadata": {
      "needs_background": "light"
     },
     "output_type": "display_data"
    },
    {
     "data": {
      "text/plain": [
       "<Figure size 800x560 with 0 Axes>"
      ]
     },
     "metadata": {},
     "output_type": "display_data"
    }
   ],
   "source": [
    "# Create a collection of claims for each year (2020)\n",
    "unemployment_2020_full = unemployment_data[(unemployment_data.Year == 2020)]\n",
    "\n",
    "# Set Variables\n",
    "graphic_title='COVID Impact on Unemployment Claims (2020)'\n",
    "x_column='Claims_in_millions'\n",
    "x_label='Claims (in millions)'\n",
    "y_label='Number of States'\n",
    "bin_count=20\n",
    "\n",
    "color2020='red'\n",
    "color2019='blue'\n",
    "\n",
    "kwargs = dict(hist_kws={'alpha':.6}, kde_kws={'linewidth':2})\n",
    "\n",
    "# Create the Histogram\n",
    "fig, axes = plt.subplots(1, figsize=(10,2.5), dpi=100, sharex=True, sharey=True)\n",
    "\n",
    "# Distribution Plot\n",
    "x = unemployment_2020_full.loc[unemployment_2020_full.Year==Year, x_column]\n",
    "ax = sns.histplot(data=unemployment_2020_full, x=x_column, kde=True)\n",
    "ax.set(xlabel=x_label, ylabel=y_label)\n",
    "ax.set_title(graphic_title)\n",
    "\n",
    "plt.ylim(0, 40)\n",
    "plt.figure(figsize=(10,7), dpi= 80)\n",
    "\n",
    "plt.suptitle('COVID Impact on Unemployment Claims', y=1.05, size=16)\n"
   ]
  },
  {
   "cell_type": "code",
   "execution_count": 18,
   "id": "6b8f8c6d-4894-4c9e-9ed8-5942563c25a7",
   "metadata": {},
   "outputs": [
    {
     "data": {
      "text/plain": [
       "Text(0.5, 1.05, 'COVID Impact on Unemployment Claims')"
      ]
     },
     "execution_count": 18,
     "metadata": {},
     "output_type": "execute_result"
    },
    {
     "data": {
      "image/png": "[encoded data removed]",
      "text/plain": [
       "<Figure size 1000x250 with 1 Axes>"
      ]
     },
     "metadata": {
      "needs_background": "light"
     },
     "output_type": "display_data"
    },
    {
     "data": {
      "text/plain": [
       "<Figure size 800x560 with 0 Axes>"
      ]
     },
     "metadata": {},
     "output_type": "display_data"
    }
   ],
   "source": [
    "# Create a collection of claims for each year (2019)\n",
    "unemployment_2019_full = unemployment_data[(unemployment_data.Year == 2019)]\n",
    "\n",
    "# Set Variables\n",
    "graphic_title='COVID Impact on Unemployment Claims (2019)'\n",
    "x_column='Claims_in_millions'\n",
    "x_label='Claims (in millions)'\n",
    "y_label='Number of States'\n",
    "bin_count=20\n",
    "\n",
    "color2020='red'\n",
    "color2019='blue'\n",
    "\n",
    "kwargs = dict(hist_kws={'alpha':.6}, kde_kws={'linewidth':2})\n",
    "\n",
    "# Create the Histogram\n",
    "fig, axes = plt.subplots(1, figsize=(10,2.5), dpi=100, sharex=True, sharey=True)\n",
    "\n",
    "# Distribution Plot\n",
    "x = unemployment_2019_full.loc[unemployment_2019_full.Year==Year, x_column]\n",
    "ax = sns.histplot(data=unemployment_2019_full, x=x_column, kde=True)\n",
    "ax.set(xlabel=x_label, ylabel=y_label)\n",
    "ax.set_title(graphic_title)\n",
    "\n",
    "plt.ylim(0, 40)\n",
    "plt.figure(figsize=(10,7), dpi= 80)\n",
    "\n",
    "plt.suptitle('COVID Impact on Unemployment Claims', y=1.05, size=16)\n"
   ]
  },
  {
   "cell_type": "markdown",
   "id": "47aeb601-c259-4ec5-bbfe-acd32cdb359a",
   "metadata": {},
   "source": [
    "# Re-Employment Data"
   ]
  },
  {
   "cell_type": "markdown",
   "id": "ea37ba02-85b8-4d7f-a105-a45094f254b0",
   "metadata": {},
   "source": [
    "## Side-by-Side"
   ]
  },
  {
   "cell_type": "code",
   "execution_count": 19,
   "id": "0625a786-e8ed-4863-a2f5-04d6f7086e60",
   "metadata": {},
   "outputs": [
    {
     "data": {
      "text/plain": [
       "Text(0.5, 1.05, 'COVID Impact on Re-Employment')"
      ]
     },
     "execution_count": 19,
     "metadata": {},
     "output_type": "execute_result"
    },
    {
     "data": {
      "image/png": "[encoded data removed]",
      "text/plain": [
       "<Figure size 1000x250 with 2 Axes>"
      ]
     },
     "metadata": {
      "needs_background": "light"
     },
     "output_type": "display_data"
    }
   ],
   "source": [
    "df = pd.read_csv(r'./data/reemployment data/Combined Short_Sorted.csv')\n",
    "\n",
    "fig, axes = plt.subplots(1, 2, figsize=(10,2.5), dpi=100, sharex=True, sharey=True)\n",
    "colors = ['tab:blue', 'tab:red']\n",
    "\n",
    "desired_column='# Remployed by next Quarter (millions)'\n",
    "# desired_column='# Received UI Payment'\n",
    "\n",
    "for i, (ax, Year) in enumerate(zip(axes.flatten(), df.Year.unique())):\n",
    "    x = df.loc[df.Year==Year, desired_column]\n",
    "    ax.hist(x, bins=20, label=str(Year), color=colors[i], edgecolor = 'black')\n",
    "    ax.set_title(Year)\n",
    "    ax.set_xlabel('Number Re-Employed by Next Quarter', fontsize = 12, color = 'b')\n",
    "    \n",
    "plt.ylim(0, 40)\n",
    "\n",
    "plt.suptitle('COVID Impact on Re-Employment', y=1.05, size=16)"
   ]
  },
  {
   "cell_type": "markdown",
   "id": "25b3b935-2bda-46f0-9408-4ed90308d273",
   "metadata": {},
   "source": [
    "# Ed Anderson's Python\n",
    "\n",
    "## Descriptive Statistics"
   ]
  },
  {
   "cell_type": "code",
   "execution_count": 20,
   "id": "728b898c-d554-41c6-be8e-184c543ce772",
   "metadata": {},
   "outputs": [
    {
     "data": {
      "text/html": [
       "<div>\n",
       "<style scoped>\n",
       "    .dataframe tbody tr th:only-of-type {\n",
       "        vertical-align: middle;\n",
       "    }\n",
       "\n",
       "    .dataframe tbody tr th {\n",
       "        vertical-align: top;\n",
       "    }\n",
       "\n",
       "    .dataframe thead th {\n",
       "        text-align: right;\n",
       "    }\n",
       "</style>\n",
       "<table border=\"1\" class=\"dataframe\">\n",
       "  <thead>\n",
       "    <tr style=\"text-align: right;\">\n",
       "      <th></th>\n",
       "      <th>2019_Claims</th>\n",
       "      <th>2020_Claims</th>\n",
       "    </tr>\n",
       "  </thead>\n",
       "  <tbody>\n",
       "    <tr>\n",
       "      <th>count</th>\n",
       "      <td>53.000000</td>\n",
       "      <td>53.000000</td>\n",
       "    </tr>\n",
       "    <tr>\n",
       "      <th>mean</th>\n",
       "      <td>0.211321</td>\n",
       "      <td>1.332075</td>\n",
       "    </tr>\n",
       "    <tr>\n",
       "      <th>std</th>\n",
       "      <td>0.323835</td>\n",
       "      <td>1.841381</td>\n",
       "    </tr>\n",
       "    <tr>\n",
       "      <th>min</th>\n",
       "      <td>0.000000</td>\n",
       "      <td>0.000000</td>\n",
       "    </tr>\n",
       "    <tr>\n",
       "      <th>25%</th>\n",
       "      <td>0.100000</td>\n",
       "      <td>0.300000</td>\n",
       "    </tr>\n",
       "    <tr>\n",
       "      <th>50%</th>\n",
       "      <td>0.100000</td>\n",
       "      <td>0.800000</td>\n",
       "    </tr>\n",
       "    <tr>\n",
       "      <th>75%</th>\n",
       "      <td>0.200000</td>\n",
       "      <td>1.400000</td>\n",
       "    </tr>\n",
       "    <tr>\n",
       "      <th>max</th>\n",
       "      <td>2.100000</td>\n",
       "      <td>11.500000</td>\n",
       "    </tr>\n",
       "  </tbody>\n",
       "</table>\n",
       "</div>"
      ],
      "text/plain": [
       "       2019_Claims  2020_Claims\n",
       "count    53.000000    53.000000\n",
       "mean      0.211321     1.332075\n",
       "std       0.323835     1.841381\n",
       "min       0.000000     0.000000\n",
       "25%       0.100000     0.300000\n",
       "50%       0.100000     0.800000\n",
       "75%       0.200000     1.400000\n",
       "max       2.100000    11.500000"
      ]
     },
     "metadata": {},
     "output_type": "display_data"
    }
   ],
   "source": [
    "df = pd.read_csv(r'./data/Years_Cleaned.csv')\n",
    "\n",
    "display(df[[\"2019_Claims\",\"2020_Claims\"]].describe())"
   ]
  },
  {
   "cell_type": "markdown",
   "id": "0c521353-6726-4921-9b40-98e0d90b6dff",
   "metadata": {},
   "source": [
    "## Histogram Side-by-Side"
   ]
  },
  {
   "cell_type": "code",
   "execution_count": 21,
   "id": "aabb01b3-d4b5-4a9d-aad4-1491f2d6c21a",
   "metadata": {},
   "outputs": [
    {
     "data": {
      "text/plain": [
       "Text(0.5, 1.05, 'COVID Impact on Unemployment Claims')"
      ]
     },
     "execution_count": 21,
     "metadata": {},
     "output_type": "execute_result"
    },
    {
     "data": {
      "image/png": "[encoded data removed]",
      "text/plain": [
       "<Figure size 1000x250 with 2 Axes>"
      ]
     },
     "metadata": {
      "needs_background": "light"
     },
     "output_type": "display_data"
    }
   ],
   "source": [
    "# import pandas as pd\n",
    "# from matplotlib import pyplot as plt\n",
    "\n",
    "df = pd.read_csv(r'./data/State_by_Year_Sorted.csv')\n",
    "\n",
    "fig, axes = plt.subplots(1, 2, figsize=(10,2.5), dpi=100, sharex=True, sharey=True)\n",
    "colors = ['tab:blue', 'tab:red']\n",
    "\n",
    "for i, (ax, Year) in enumerate(zip(axes.flatten(), df.Year.unique())):\n",
    "    x = df.loc[df.Year==Year, 'Claims_in_millions']\n",
    "    ax.hist(x, bins=20, label=str(Year), color=colors[i], edgecolor = 'black')\n",
    "    ax.set_title(Year)\n",
    "    ax.set_xlabel('Claims (in millions)', fontsize = 12, color = 'b')\n",
    "    \n",
    "plt.ylim(0, 40)\n",
    "\n",
    "plt.suptitle('COVID Impact on Unemployment Claims', y=1.05, size=16)\n",
    "#plt.tight_layout();"
   ]
  },
  {
   "cell_type": "markdown",
   "id": "31ee0bd6-1436-4ceb-9f8e-7eb4bda31617",
   "metadata": {},
   "source": [
    "## Monthly Line Chart"
   ]
  },
  {
   "cell_type": "code",
   "execution_count": 22,
   "id": "982451e7-7490-44ac-89f1-e546b0daf32f",
   "metadata": {},
   "outputs": [
    {
     "data": {
      "image/png": "[encoded data removed]",
      "text/plain": [
       "<Figure size 720x302.4 with 1 Axes>"
      ]
     },
     "metadata": {
      "needs_background": "light"
     },
     "output_type": "display_data"
    }
   ],
   "source": [
    "# import matplotlib.pyplot as plt\n",
    "# import pandas as pd\n",
    "\n",
    "df = pd.read_csv(r'./data/Claims_by_Month.csv')\n",
    "\n",
    "plt.figure(figsize=(10, 4.2))\n",
    "x = range(len(df['Claims']))\n",
    "plt.plot(x, df['Claims'])\n",
    "plt.xticks(x, df['Month'])\n",
    "plt.xticks(rotation = 45) # Rotates X-Axis Ticks by 45-degrees\n",
    "\n",
    "plt.title('COVID Impact on Unemployment Claims', fontsize = 18)\n",
    "plt.ylabel('Claims (in millions)', fontsize = 15, color = 'b')\n",
    "plt.xlabel('Month of Claim', fontsize = 15, color = 'b')\n",
    "\n",
    "plt.xticks(fontsize = 12)\n",
    "plt.yticks(fontsize = 12)\n",
    "plt.show()"
   ]
  },
  {
   "cell_type": "markdown",
   "id": "e3ec5f24-11b7-414d-9da2-df81e936fe99",
   "metadata": {},
   "source": [
    "## Unemployment Claims\n",
    "\n",
    "### Unemployment Claims 2019"
   ]
  },
  {
   "cell_type": "code",
   "execution_count": 23,
   "id": "af37795e-e045-4720-b549-285ad60e8897",
   "metadata": {},
   "outputs": [
    {
     "data": {
      "image/png": "[encoded data removed]",
      "text/plain": [
       "<Figure size 432x288 with 1 Axes>"
      ]
     },
     "metadata": {
      "needs_background": "light"
     },
     "output_type": "display_data"
    }
   ],
   "source": [
    "import pandas as pd\n",
    "from matplotlib import pyplot as plt\n",
    "\n",
    "df = pd.read_csv (r'./data/Years_Cleaned.csv')\n",
    "\n",
    "data = df['2019_Claims']\n",
    "bins=10\n",
    "\n",
    "plt.hist(df['2019_Claims'], bins, color = 'red', alpha = 0.8, edgecolor = 'black')\n",
    "\n",
    "plt.title('2019 Unemployment Claims', fontsize = 18)\n",
    "plt.xlabel('Claims (in millions)', fontsize = 15, color = 'b')\n",
    "plt.xlim(0, 12)\n",
    "plt.ylim(0, 40)\n",
    "plt.ylabel('Total States', fontsize = 15, color = 'b')\n",
    "\n",
    "plt.xticks(fontsize = 12)\n",
    "plt.yticks(fontsize = 12)\n",
    "\n",
    "plt.show()"
   ]
  },
  {
   "cell_type": "markdown",
   "id": "4590b39e-0af2-4116-915f-d787734da197",
   "metadata": {},
   "source": [
    "### Unemployment Claims 2020"
   ]
  },
  {
   "cell_type": "code",
   "execution_count": 24,
   "id": "9e7750dc-9f61-4535-88e9-28a53b1fc7f9",
   "metadata": {},
   "outputs": [
    {
     "data": {
      "image/png": "[encoded data removed]",
      "text/plain": [
       "<Figure size 432x288 with 1 Axes>"
      ]
     },
     "metadata": {
      "needs_background": "light"
     },
     "output_type": "display_data"
    }
   ],
   "source": [
    "# import pandas as pd\n",
    "# from matplotlib import pyplot as plt\n",
    "\n",
    "df = pd.read_csv(r'./data/Years_Cleaned.csv')\n",
    "\n",
    "data = df['2020_Claims']\n",
    "bins=10\n",
    "\n",
    "plt.hist(df['2020_Claims'], bins, color = 'red', alpha = 0.8, edgecolor = 'black')\n",
    "\n",
    "plt.title('2020 Unemployment Claims', fontsize = 18)\n",
    "plt.xlabel('Claims (in millions)', fontsize = 15, color = 'b')\n",
    "plt.xlim(0, 12)\n",
    "plt.ylim(0, 40)\n",
    "plt.ylabel('Total States', fontsize = 15, color = 'b')\n",
    "\n",
    "plt.xticks(fontsize = 12)\n",
    "plt.yticks(fontsize = 12)\n",
    "\n",
    "plt.show()"
   ]
  },
  {
   "cell_type": "code",
   "execution_count": null,
   "id": "d3387e7c-6da7-4274-ad31-f1170b8758a8",
   "metadata": {},
   "outputs": [],
   "source": []
  }
 ],
 "metadata": {
  "kernelspec": {
   "display_name": "Python 3",
   "language": "python",
   "name": "python3"
  },
  "language_info": {
   "codemirror_mode": {
    "name": "ipython",
    "version": 3
   },
   "file_extension": ".py",
   "mimetype": "text/x-python",
   "name": "python",
   "nbconvert_exporter": "python",
   "pygments_lexer": "ipython3",
   "version": "3.8.8"
  }
 },
 "nbformat": 4,
 "nbformat_minor": 5
}
