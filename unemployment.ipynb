{
 "cells": [
  {
   "cell_type": "markdown",
   "id": "1297862d-dff7-4cc0-ab34-0bc7cdc4c276",
   "metadata": {},
   "source": [
    "# Unemployment Claims in the United States\n",
    "\n",
    "Review the unemployment claims in the United State in 2019 and 2020.\n",
    "\n",
    "Original data from https://oui.doleta.gov/unemploy/claims.asp"
   ]
  },
  {
   "cell_type": "markdown",
   "id": "0ae6f0e7-3d27-49bd-83da-f4f05ea3a7fb",
   "metadata": {},
   "source": [
    "## Import Dependencies"
   ]
  },
  {
   "cell_type": "code",
   "execution_count": 1,
   "id": "23697c86-2285-42a0-bb18-cd8b8882a21a",
   "metadata": {},
   "outputs": [
    {
     "name": "stdout",
     "output_type": "stream",
     "text": [
      "pandas version:   1.2.4\n",
      "seaborn version:  0.11.1\n",
      "numpy version:    1.20.1\n"
     ]
    }
   ],
   "source": [
    "import pandas as pd\n",
    "import seaborn as sns\n",
    "from matplotlib import pyplot as plt\n",
    "import math\n",
    "import numpy as np\n",
    "import warnings\n",
    "\n",
    "print('pandas version:  ',pd. __version__)\n",
    "print('seaborn version: ',sns. __version__)\n",
    "print('numpy version:   ',np. __version__)"
   ]
  },
  {
   "cell_type": "markdown",
   "id": "911c0858-eccd-4c1b-ac9d-8f7c1d416551",
   "metadata": {},
   "source": [
    "## Grab Data\n",
    "\n",
    "Read the csv file and store it. Display the first 5 rows as a preview."
   ]
  },
  {
   "cell_type": "code",
   "execution_count": 2,
   "id": "10b2addb-e385-4938-a488-21a486729a46",
   "metadata": {},
   "outputs": [
    {
     "data": {
      "text/html": [
       "<div>\n",
       "<style scoped>\n",
       "    .dataframe tbody tr th:only-of-type {\n",
       "        vertical-align: middle;\n",
       "    }\n",
       "\n",
       "    .dataframe tbody tr th {\n",
       "        vertical-align: top;\n",
       "    }\n",
       "\n",
       "    .dataframe thead th {\n",
       "        text-align: right;\n",
       "    }\n",
       "</style>\n",
       "<table border=\"1\" class=\"dataframe\">\n",
       "  <thead>\n",
       "    <tr style=\"text-align: right;\">\n",
       "      <th></th>\n",
       "      <th>State</th>\n",
       "      <th>Year</th>\n",
       "      <th>Claims</th>\n",
       "      <th>Claims_in_millions</th>\n",
       "      <th>Unnamed: 4</th>\n",
       "    </tr>\n",
       "  </thead>\n",
       "  <tbody>\n",
       "    <tr>\n",
       "      <th>0</th>\n",
       "      <td>California</td>\n",
       "      <td>2020</td>\n",
       "      <td>11537768</td>\n",
       "      <td>11.5</td>\n",
       "      <td>NaN</td>\n",
       "    </tr>\n",
       "    <tr>\n",
       "      <th>1</th>\n",
       "      <td>New York</td>\n",
       "      <td>2020</td>\n",
       "      <td>4708666</td>\n",
       "      <td>4.7</td>\n",
       "      <td>NaN</td>\n",
       "    </tr>\n",
       "    <tr>\n",
       "      <th>2</th>\n",
       "      <td>Florida</td>\n",
       "      <td>2020</td>\n",
       "      <td>4310784</td>\n",
       "      <td>4.3</td>\n",
       "      <td>NaN</td>\n",
       "    </tr>\n",
       "    <tr>\n",
       "      <th>3</th>\n",
       "      <td>Georgia</td>\n",
       "      <td>2020</td>\n",
       "      <td>4286913</td>\n",
       "      <td>4.3</td>\n",
       "      <td>NaN</td>\n",
       "    </tr>\n",
       "    <tr>\n",
       "      <th>4</th>\n",
       "      <td>Texas</td>\n",
       "      <td>2020</td>\n",
       "      <td>4210238</td>\n",
       "      <td>4.2</td>\n",
       "      <td>NaN</td>\n",
       "    </tr>\n",
       "  </tbody>\n",
       "</table>\n",
       "</div>"
      ],
      "text/plain": [
       "        State  Year    Claims  Claims_in_millions  Unnamed: 4\n",
       "0  California  2020  11537768                11.5         NaN\n",
       "1    New York  2020   4708666                 4.7         NaN\n",
       "2     Florida  2020   4310784                 4.3         NaN\n",
       "3     Georgia  2020   4286913                 4.3         NaN\n",
       "4       Texas  2020   4210238                 4.2         NaN"
      ]
     },
     "execution_count": 2,
     "metadata": {},
     "output_type": "execute_result"
    }
   ],
   "source": [
    "unemployment_data = pd.read_csv(r'./data/State_by_Year.csv')\n",
    "\n",
    "# Check the first few rows\n",
    "unemployment_data.head()"
   ]
  },
  {
   "cell_type": "markdown",
   "id": "eb4258b9-9baf-40e6-950d-77bf4e640ca8",
   "metadata": {},
   "source": [
    "## Summarize the Numeric Columns\n",
    "\n",
    "We can use `describe()` to summarize the numeric columns.\n",
    "\n",
    "This will include the **Year** column, however, only the **Claims** column makes sense here."
   ]
  },
  {
   "cell_type": "code",
   "execution_count": 3,
   "id": "fceedcd2-5c1e-467f-a2ee-3cef46353015",
   "metadata": {},
   "outputs": [
    {
     "name": "stdout",
     "output_type": "stream",
     "text": [
      "Total Row Count = 106\n"
     ]
    },
    {
     "data": {
      "text/html": [
       "<div>\n",
       "<style scoped>\n",
       "    .dataframe tbody tr th:only-of-type {\n",
       "        vertical-align: middle;\n",
       "    }\n",
       "\n",
       "    .dataframe tbody tr th {\n",
       "        vertical-align: top;\n",
       "    }\n",
       "\n",
       "    .dataframe thead th {\n",
       "        text-align: right;\n",
       "    }\n",
       "</style>\n",
       "<table border=\"1\" class=\"dataframe\">\n",
       "  <thead>\n",
       "    <tr style=\"text-align: right;\">\n",
       "      <th></th>\n",
       "      <th>Year</th>\n",
       "      <th>Claims</th>\n",
       "      <th>Claims_in_millions</th>\n",
       "      <th>Unnamed: 4</th>\n",
       "    </tr>\n",
       "  </thead>\n",
       "  <tbody>\n",
       "    <tr>\n",
       "      <th>count</th>\n",
       "      <td>106.000000</td>\n",
       "      <td>1.060000e+02</td>\n",
       "      <td>106.000000</td>\n",
       "      <td>0.0</td>\n",
       "    </tr>\n",
       "    <tr>\n",
       "      <th>mean</th>\n",
       "      <td>2019.500000</td>\n",
       "      <td>7.702800e+05</td>\n",
       "      <td>0.771698</td>\n",
       "      <td>NaN</td>\n",
       "    </tr>\n",
       "    <tr>\n",
       "      <th>std</th>\n",
       "      <td>0.502375</td>\n",
       "      <td>1.432701e+06</td>\n",
       "      <td>1.431134</td>\n",
       "      <td>NaN</td>\n",
       "    </tr>\n",
       "    <tr>\n",
       "      <th>min</th>\n",
       "      <td>2019.000000</td>\n",
       "      <td>1.532000e+03</td>\n",
       "      <td>0.000000</td>\n",
       "      <td>NaN</td>\n",
       "    </tr>\n",
       "    <tr>\n",
       "      <th>25%</th>\n",
       "      <td>2019.000000</td>\n",
       "      <td>1.010010e+05</td>\n",
       "      <td>0.100000</td>\n",
       "      <td>NaN</td>\n",
       "    </tr>\n",
       "    <tr>\n",
       "      <th>50%</th>\n",
       "      <td>2019.500000</td>\n",
       "      <td>2.830210e+05</td>\n",
       "      <td>0.300000</td>\n",
       "      <td>NaN</td>\n",
       "    </tr>\n",
       "    <tr>\n",
       "      <th>75%</th>\n",
       "      <td>2020.000000</td>\n",
       "      <td>8.377425e+05</td>\n",
       "      <td>0.800000</td>\n",
       "      <td>NaN</td>\n",
       "    </tr>\n",
       "    <tr>\n",
       "      <th>max</th>\n",
       "      <td>2020.000000</td>\n",
       "      <td>1.153777e+07</td>\n",
       "      <td>11.500000</td>\n",
       "      <td>NaN</td>\n",
       "    </tr>\n",
       "  </tbody>\n",
       "</table>\n",
       "</div>"
      ],
      "text/plain": [
       "              Year        Claims  Claims_in_millions  Unnamed: 4\n",
       "count   106.000000  1.060000e+02          106.000000         0.0\n",
       "mean   2019.500000  7.702800e+05            0.771698         NaN\n",
       "std       0.502375  1.432701e+06            1.431134         NaN\n",
       "min    2019.000000  1.532000e+03            0.000000         NaN\n",
       "25%    2019.000000  1.010010e+05            0.100000         NaN\n",
       "50%    2019.500000  2.830210e+05            0.300000         NaN\n",
       "75%    2020.000000  8.377425e+05            0.800000         NaN\n",
       "max    2020.000000  1.153777e+07           11.500000         NaN"
      ]
     },
     "execution_count": 3,
     "metadata": {},
     "output_type": "execute_result"
    }
   ],
   "source": [
    "# Summarize the numeric columns\n",
    "print('Total Row Count =', len(unemployment_data))\n",
    "unemployment_data.describe()"
   ]
  },
  {
   "cell_type": "markdown",
   "id": "9ff50a60-c9a2-4b97-9f0f-7b61712f5136",
   "metadata": {},
   "source": [
    "## Confirm Years in Data\n",
    "\n",
    "Confirm that our data set only contains data for **2019** and **2020**."
   ]
  },
  {
   "cell_type": "code",
   "execution_count": 4,
   "id": "9b15655c-60d7-437f-a053-c471cb9b4a37",
   "metadata": {},
   "outputs": [
    {
     "name": "stdout",
     "output_type": "stream",
     "text": [
      "Years:  [2020 2019]\n",
      "Number of years is 2?  True\n"
     ]
    }
   ],
   "source": [
    "# Confirm the number of years in the data.\n",
    "\n",
    "data_years = unemployment_data['Year'].unique()\n",
    "print('Years: ', data_years)\n",
    "\n",
    "expected_number_of_years = 2\n",
    "print('Number of years is 2? ',len(data_years) == 2)"
   ]
  },
  {
   "cell_type": "markdown",
   "id": "3c3175d6-f158-4d58-8d48-86789e8e8a11",
   "metadata": {},
   "source": [
    "## Summarize Claims Column"
   ]
  },
  {
   "cell_type": "code",
   "execution_count": 5,
   "id": "e0112c70-2fbd-40c7-a294-e47353c0c7b9",
   "metadata": {},
   "outputs": [
    {
     "data": {
      "text/plain": [
       "count    1.060000e+02\n",
       "mean     7.702800e+05\n",
       "std      1.432701e+06\n",
       "min      1.532000e+03\n",
       "25%      1.010010e+05\n",
       "50%      2.830210e+05\n",
       "75%      8.377425e+05\n",
       "max      1.153777e+07\n",
       "Name: Claims, dtype: float64"
      ]
     },
     "execution_count": 5,
     "metadata": {},
     "output_type": "execute_result"
    }
   ],
   "source": [
    "# Define the column that we'll be plotting\n",
    "desired_column = 'Claims'\n",
    "\n",
    "# Summarize the Claims column\n",
    "unemployment_data[desired_column].describe()"
   ]
  },
  {
   "cell_type": "markdown",
   "id": "85a66296-9f77-4109-a70e-df77b1417ea7",
   "metadata": {},
   "source": [
    "## Exclude Outliers\n",
    "\n",
    "Looking at the Claims data, we can assume some outliers beyond the lower 25% and upper 75%.\n",
    "\n",
    "* 25% --> 101,001\n",
    "* 75% --> 837,742.5\n",
    "\n",
    "Let's round to get some cutoffs:\n",
    "\n",
    "* Minimum --> 100,000\n",
    "* Maximum --> 900,000\n",
    "\n",
    "We'll also create two new data sets.\n",
    "\n",
    "* 2019 --> `unemployment_2019`\n",
    "* 2020 --> `unemployment_2020`"
   ]
  },
  {
   "cell_type": "code",
   "execution_count": 6,
   "id": "0ab2c7bc-37ef-4db2-bda6-fa554ffd598a",
   "metadata": {},
   "outputs": [
    {
     "data": {
      "text/html": [
       "<div>\n",
       "<style scoped>\n",
       "    .dataframe tbody tr th:only-of-type {\n",
       "        vertical-align: middle;\n",
       "    }\n",
       "\n",
       "    .dataframe tbody tr th {\n",
       "        vertical-align: top;\n",
       "    }\n",
       "\n",
       "    .dataframe thead th {\n",
       "        text-align: right;\n",
       "    }\n",
       "</style>\n",
       "<table border=\"1\" class=\"dataframe\">\n",
       "  <thead>\n",
       "    <tr style=\"text-align: right;\">\n",
       "      <th></th>\n",
       "      <th>State</th>\n",
       "      <th>Year</th>\n",
       "      <th>Claims</th>\n",
       "      <th>Claims_in_millions</th>\n",
       "      <th>Unnamed: 4</th>\n",
       "    </tr>\n",
       "  </thead>\n",
       "  <tbody>\n",
       "    <tr>\n",
       "      <th>26</th>\n",
       "      <td>South Carolina</td>\n",
       "      <td>2020</td>\n",
       "      <td>842348</td>\n",
       "      <td>0.8</td>\n",
       "      <td>NaN</td>\n",
       "    </tr>\n",
       "    <tr>\n",
       "      <th>27</th>\n",
       "      <td>New York</td>\n",
       "      <td>2019</td>\n",
       "      <td>823926</td>\n",
       "      <td>0.8</td>\n",
       "      <td>NaN</td>\n",
       "    </tr>\n",
       "    <tr>\n",
       "      <th>28</th>\n",
       "      <td>Nevada</td>\n",
       "      <td>2020</td>\n",
       "      <td>809682</td>\n",
       "      <td>0.8</td>\n",
       "      <td>NaN</td>\n",
       "    </tr>\n",
       "    <tr>\n",
       "      <th>29</th>\n",
       "      <td>Oregon</td>\n",
       "      <td>2020</td>\n",
       "      <td>764300</td>\n",
       "      <td>0.8</td>\n",
       "      <td>NaN</td>\n",
       "    </tr>\n",
       "    <tr>\n",
       "      <th>30</th>\n",
       "      <td>Colorado</td>\n",
       "      <td>2020</td>\n",
       "      <td>746167</td>\n",
       "      <td>0.7</td>\n",
       "      <td>NaN</td>\n",
       "    </tr>\n",
       "  </tbody>\n",
       "</table>\n",
       "</div>"
      ],
      "text/plain": [
       "             State  Year  Claims  Claims_in_millions  Unnamed: 4\n",
       "26  South Carolina  2020  842348                 0.8         NaN\n",
       "27        New York  2019  823926                 0.8         NaN\n",
       "28          Nevada  2020  809682                 0.8         NaN\n",
       "29          Oregon  2020  764300                 0.8         NaN\n",
       "30        Colorado  2020  746167                 0.7         NaN"
      ]
     },
     "execution_count": 6,
     "metadata": {},
     "output_type": "execute_result"
    }
   ],
   "source": [
    "# Exclude outliers\n",
    "cutoff_min = 100000\n",
    "cutoff_max = 900000\n",
    "unemployment_data_limited = unemployment_data[unemployment_data[desired_column].between(cutoff_min, cutoff_max)]\n",
    "\n",
    "# Check the first few rows\n",
    "unemployment_data_limited.head()"
   ]
  },
  {
   "cell_type": "code",
   "execution_count": 7,
   "id": "a0273e42-2217-47c4-bc30-5ca54ff1b41f",
   "metadata": {},
   "outputs": [
    {
     "data": {
      "text/html": [
       "<div>\n",
       "<style scoped>\n",
       "    .dataframe tbody tr th:only-of-type {\n",
       "        vertical-align: middle;\n",
       "    }\n",
       "\n",
       "    .dataframe tbody tr th {\n",
       "        vertical-align: top;\n",
       "    }\n",
       "\n",
       "    .dataframe thead th {\n",
       "        text-align: right;\n",
       "    }\n",
       "</style>\n",
       "<table border=\"1\" class=\"dataframe\">\n",
       "  <thead>\n",
       "    <tr style=\"text-align: right;\">\n",
       "      <th></th>\n",
       "      <th>State</th>\n",
       "      <th>Year</th>\n",
       "      <th>Claims</th>\n",
       "      <th>Claims_in_millions</th>\n",
       "      <th>Unnamed: 4</th>\n",
       "    </tr>\n",
       "  </thead>\n",
       "  <tbody>\n",
       "    <tr>\n",
       "      <th>27</th>\n",
       "      <td>New York</td>\n",
       "      <td>2019</td>\n",
       "      <td>823926</td>\n",
       "      <td>0.8</td>\n",
       "      <td>NaN</td>\n",
       "    </tr>\n",
       "    <tr>\n",
       "      <th>31</th>\n",
       "      <td>Pennsylvania</td>\n",
       "      <td>2019</td>\n",
       "      <td>739399</td>\n",
       "      <td>0.7</td>\n",
       "      <td>NaN</td>\n",
       "    </tr>\n",
       "    <tr>\n",
       "      <th>32</th>\n",
       "      <td>Texas</td>\n",
       "      <td>2019</td>\n",
       "      <td>701860</td>\n",
       "      <td>0.7</td>\n",
       "      <td>NaN</td>\n",
       "    </tr>\n",
       "    <tr>\n",
       "      <th>37</th>\n",
       "      <td>New Jersey</td>\n",
       "      <td>2019</td>\n",
       "      <td>492540</td>\n",
       "      <td>0.5</td>\n",
       "      <td>NaN</td>\n",
       "    </tr>\n",
       "    <tr>\n",
       "      <th>38</th>\n",
       "      <td>Illinois</td>\n",
       "      <td>2019</td>\n",
       "      <td>489831</td>\n",
       "      <td>0.5</td>\n",
       "      <td>NaN</td>\n",
       "    </tr>\n",
       "  </tbody>\n",
       "</table>\n",
       "</div>"
      ],
      "text/plain": [
       "           State  Year  Claims  Claims_in_millions  Unnamed: 4\n",
       "27      New York  2019  823926                 0.8         NaN\n",
       "31  Pennsylvania  2019  739399                 0.7         NaN\n",
       "32         Texas  2019  701860                 0.7         NaN\n",
       "37    New Jersey  2019  492540                 0.5         NaN\n",
       "38      Illinois  2019  489831                 0.5         NaN"
      ]
     },
     "execution_count": 7,
     "metadata": {},
     "output_type": "execute_result"
    }
   ],
   "source": [
    "# Create a collection of claims for each year (2019)\n",
    "unemployment_2019 = unemployment_data_limited[(unemployment_data_limited.Year == 2019)]\n",
    "\n",
    "# Check the first few rows of each (2019)\n",
    "unemployment_2019.head()"
   ]
  },
  {
   "cell_type": "code",
   "execution_count": 8,
   "id": "e20fccc3-d90b-4706-8e6d-91d7198c648c",
   "metadata": {},
   "outputs": [
    {
     "data": {
      "text/html": [
       "<div>\n",
       "<style scoped>\n",
       "    .dataframe tbody tr th:only-of-type {\n",
       "        vertical-align: middle;\n",
       "    }\n",
       "\n",
       "    .dataframe tbody tr th {\n",
       "        vertical-align: top;\n",
       "    }\n",
       "\n",
       "    .dataframe thead th {\n",
       "        text-align: right;\n",
       "    }\n",
       "</style>\n",
       "<table border=\"1\" class=\"dataframe\">\n",
       "  <thead>\n",
       "    <tr style=\"text-align: right;\">\n",
       "      <th></th>\n",
       "      <th>State</th>\n",
       "      <th>Year</th>\n",
       "      <th>Claims</th>\n",
       "      <th>Claims_in_millions</th>\n",
       "      <th>Unnamed: 4</th>\n",
       "    </tr>\n",
       "  </thead>\n",
       "  <tbody>\n",
       "    <tr>\n",
       "      <th>26</th>\n",
       "      <td>South Carolina</td>\n",
       "      <td>2020</td>\n",
       "      <td>842348</td>\n",
       "      <td>0.8</td>\n",
       "      <td>NaN</td>\n",
       "    </tr>\n",
       "    <tr>\n",
       "      <th>28</th>\n",
       "      <td>Nevada</td>\n",
       "      <td>2020</td>\n",
       "      <td>809682</td>\n",
       "      <td>0.8</td>\n",
       "      <td>NaN</td>\n",
       "    </tr>\n",
       "    <tr>\n",
       "      <th>29</th>\n",
       "      <td>Oregon</td>\n",
       "      <td>2020</td>\n",
       "      <td>764300</td>\n",
       "      <td>0.8</td>\n",
       "      <td>NaN</td>\n",
       "    </tr>\n",
       "    <tr>\n",
       "      <th>30</th>\n",
       "      <td>Colorado</td>\n",
       "      <td>2020</td>\n",
       "      <td>746167</td>\n",
       "      <td>0.7</td>\n",
       "      <td>NaN</td>\n",
       "    </tr>\n",
       "    <tr>\n",
       "      <th>33</th>\n",
       "      <td>Connecticut</td>\n",
       "      <td>2020</td>\n",
       "      <td>657343</td>\n",
       "      <td>0.7</td>\n",
       "      <td>NaN</td>\n",
       "    </tr>\n",
       "  </tbody>\n",
       "</table>\n",
       "</div>"
      ],
      "text/plain": [
       "             State  Year  Claims  Claims_in_millions  Unnamed: 4\n",
       "26  South Carolina  2020  842348                 0.8         NaN\n",
       "28          Nevada  2020  809682                 0.8         NaN\n",
       "29          Oregon  2020  764300                 0.8         NaN\n",
       "30        Colorado  2020  746167                 0.7         NaN\n",
       "33     Connecticut  2020  657343                 0.7         NaN"
      ]
     },
     "execution_count": 8,
     "metadata": {},
     "output_type": "execute_result"
    }
   ],
   "source": [
    "# Create a collection of claims for each year (2020)\n",
    "unemployment_2020 = unemployment_data_limited[(unemployment_data_limited.Year == 2020)]\n",
    "\n",
    "# Check the first few rows of each (2020)\n",
    "unemployment_2020.head()"
   ]
  },
  {
   "cell_type": "markdown",
   "id": "ef7060d7-d211-407a-a5e6-213d426c6151",
   "metadata": {},
   "source": [
    "## Create Boxplots\n",
    "\n",
    "Create a boxplot with our new datasets, `unemployment_2019` and `unemployment_2020`."
   ]
  },
  {
   "cell_type": "code",
   "execution_count": 9,
   "id": "0f03c898-ecc8-4178-9d2c-62f6dffba5be",
   "metadata": {},
   "outputs": [
    {
     "data": {
      "text/plain": [
       "Text(0, 0.5, 'Claims')"
      ]
     },
     "execution_count": 9,
     "metadata": {},
     "output_type": "execute_result"
    },
    {
     "data": {
      "image/png": "[encoded data removed]",
      "text/plain": [
       "<Figure size 432x288 with 1 Axes>"
      ]
     },
     "metadata": {
      "needs_background": "light"
     },
     "output_type": "display_data"
    }
   ],
   "source": [
    "# Create a box plot for each year.\n",
    "plt.boxplot([unemployment_2019[desired_column], unemployment_2020[desired_column]], labels=['2019', '2020'])\n",
    "plt.ylabel('Claims')"
   ]
  },
  {
   "cell_type": "markdown",
   "id": "c65ad9a3-8062-478d-b307-7eff3279a953",
   "metadata": {},
   "source": [
    "## Create Histogram for 2019"
   ]
  },
  {
   "cell_type": "code",
   "execution_count": 10,
   "id": "d8a768cb-c344-4a5e-bea5-0d21cd9f78e5",
   "metadata": {},
   "outputs": [
    {
     "data": {
      "image/png": "[encoded data removed]",
      "text/plain": [
       "<Figure size 432x288 with 1 Axes>"
      ]
     },
     "metadata": {
      "needs_background": "light"
     },
     "output_type": "display_data"
    }
   ],
   "source": [
    "# bin_size = 5\n",
    "# maximum = max(unemployment_2019[desired_column])\n",
    "# minimum = min(unemployment_2019[desired_column])\n",
    "# bins = math.ceil((maximum - minimum) / bin_size)\n",
    "\n",
    "plt.hist(unemployment_2019[desired_column])\n",
    "plt.xlabel('Claims ($)')\n",
    "plt.ylabel('Frequency')\n",
    "plt.title('Histogram of Unemployment Claims in all stats in 2019');\n",
    "plt.show() "
   ]
  },
  {
   "cell_type": "markdown",
   "id": "4f889515-66b1-4551-938a-1d960aaaea5f",
   "metadata": {},
   "source": [
    "## Create Histogram for 2020"
   ]
  },
  {
   "cell_type": "code",
   "execution_count": 11,
   "id": "55141fb1-b320-444a-9547-43136ccb432d",
   "metadata": {},
   "outputs": [
    {
     "data": {
      "image/png": "[encoded data removed]",
      "text/plain": [
       "<Figure size 432x288 with 1 Axes>"
      ]
     },
     "metadata": {
      "needs_background": "light"
     },
     "output_type": "display_data"
    }
   ],
   "source": [
    "# bin_size = 5\n",
    "# maximum = max(unemployment_2020[desired_column])\n",
    "# minimum = min(unemployment_2020[desired_column])\n",
    "# bins = math.ceil((maximum - minimum) / bin_size)\n",
    "\n",
    "plt.hist(unemployment_2020[desired_column])\n",
    "plt.xlabel('Claims ($)')\n",
    "plt.ylabel('Frequency')\n",
    "plt.title('Histogram of Unemployment Claims in all stats in 2020');\n",
    "plt.show() "
   ]
  },
  {
   "cell_type": "markdown",
   "id": "25b3b935-2bda-46f0-9408-4ed90308d273",
   "metadata": {},
   "source": [
    "# Ed Anderson's Python\n",
    "\n",
    "## Descriptive Statistics"
   ]
  },
  {
   "cell_type": "code",
   "execution_count": 12,
   "id": "728b898c-d554-41c6-be8e-184c543ce772",
   "metadata": {},
   "outputs": [
    {
     "data": {
      "text/html": [
       "<div>\n",
       "<style scoped>\n",
       "    .dataframe tbody tr th:only-of-type {\n",
       "        vertical-align: middle;\n",
       "    }\n",
       "\n",
       "    .dataframe tbody tr th {\n",
       "        vertical-align: top;\n",
       "    }\n",
       "\n",
       "    .dataframe thead th {\n",
       "        text-align: right;\n",
       "    }\n",
       "</style>\n",
       "<table border=\"1\" class=\"dataframe\">\n",
       "  <thead>\n",
       "    <tr style=\"text-align: right;\">\n",
       "      <th></th>\n",
       "      <th>2019_Claims</th>\n",
       "      <th>2020_Claims</th>\n",
       "    </tr>\n",
       "  </thead>\n",
       "  <tbody>\n",
       "    <tr>\n",
       "      <th>count</th>\n",
       "      <td>53.000000</td>\n",
       "      <td>53.000000</td>\n",
       "    </tr>\n",
       "    <tr>\n",
       "      <th>mean</th>\n",
       "      <td>0.211321</td>\n",
       "      <td>1.332075</td>\n",
       "    </tr>\n",
       "    <tr>\n",
       "      <th>std</th>\n",
       "      <td>0.323835</td>\n",
       "      <td>1.841381</td>\n",
       "    </tr>\n",
       "    <tr>\n",
       "      <th>min</th>\n",
       "      <td>0.000000</td>\n",
       "      <td>0.000000</td>\n",
       "    </tr>\n",
       "    <tr>\n",
       "      <th>25%</th>\n",
       "      <td>0.100000</td>\n",
       "      <td>0.300000</td>\n",
       "    </tr>\n",
       "    <tr>\n",
       "      <th>50%</th>\n",
       "      <td>0.100000</td>\n",
       "      <td>0.800000</td>\n",
       "    </tr>\n",
       "    <tr>\n",
       "      <th>75%</th>\n",
       "      <td>0.200000</td>\n",
       "      <td>1.400000</td>\n",
       "    </tr>\n",
       "    <tr>\n",
       "      <th>max</th>\n",
       "      <td>2.100000</td>\n",
       "      <td>11.500000</td>\n",
       "    </tr>\n",
       "  </tbody>\n",
       "</table>\n",
       "</div>"
      ],
      "text/plain": [
       "       2019_Claims  2020_Claims\n",
       "count    53.000000    53.000000\n",
       "mean      0.211321     1.332075\n",
       "std       0.323835     1.841381\n",
       "min       0.000000     0.000000\n",
       "25%       0.100000     0.300000\n",
       "50%       0.100000     0.800000\n",
       "75%       0.200000     1.400000\n",
       "max       2.100000    11.500000"
      ]
     },
     "metadata": {},
     "output_type": "display_data"
    }
   ],
   "source": [
    "df = pd.read_csv(r'./data/Years_Cleaned.csv')\n",
    "\n",
    "display(df[[\"2019_Claims\",\"2020_Claims\"]].describe())"
   ]
  },
  {
   "cell_type": "markdown",
   "id": "0c521353-6726-4921-9b40-98e0d90b6dff",
   "metadata": {},
   "source": [
    "## Histogram Side-by-Side"
   ]
  },
  {
   "cell_type": "code",
   "execution_count": 13,
   "id": "aabb01b3-d4b5-4a9d-aad4-1491f2d6c21a",
   "metadata": {},
   "outputs": [
    {
     "data": {
      "text/plain": [
       "Text(0.5, 1.05, 'COVID Impact on Unemployment Claims')"
      ]
     },
     "execution_count": 13,
     "metadata": {},
     "output_type": "execute_result"
    },
    {
     "data": {
      "image/png": "[encoded data removed]",
      "text/plain": [
       "<Figure size 1000x250 with 2 Axes>"
      ]
     },
     "metadata": {
      "needs_background": "light"
     },
     "output_type": "display_data"
    }
   ],
   "source": [
    "# import pandas as pd\n",
    "# from matplotlib import pyplot as plt\n",
    "\n",
    "df = pd.read_csv(r'./data/State_by_Year.csv')\n",
    "\n",
    "fig, axes = plt.subplots(1, 2, figsize=(10,2.5), dpi=100, sharex=True, sharey=True)\n",
    "colors = ['tab:red', 'tab:blue']\n",
    "\n",
    "for i, (ax, Year) in enumerate(zip(axes.flatten(), df.Year.unique())):\n",
    "    x = df.loc[df.Year==Year, 'Claims_in_millions']\n",
    "    ax.hist(x, bins=20, label=str(Year), color=colors[i], edgecolor = 'black')\n",
    "    ax.set_title(Year)\n",
    "    ax.set_xlabel('Claims (in millions)', fontsize = 12, color = 'b')\n",
    "    \n",
    "plt.ylim(0, 40)\n",
    "\n",
    "plt.suptitle('COVID Impact on Unemployment Claims', y=1.05, size=16)\n",
    "#plt.tight_layout();"
   ]
  },
  {
   "cell_type": "markdown",
   "id": "31ee0bd6-1436-4ceb-9f8e-7eb4bda31617",
   "metadata": {},
   "source": [
    "## Monthly Line Chart"
   ]
  },
  {
   "cell_type": "code",
   "execution_count": 14,
   "id": "982451e7-7490-44ac-89f1-e546b0daf32f",
   "metadata": {},
   "outputs": [
    {
     "data": {
      "image/png": "[encoded data removed]",
      "text/plain": [
       "<Figure size 720x302.4 with 1 Axes>"
      ]
     },
     "metadata": {
      "needs_background": "light"
     },
     "output_type": "display_data"
    }
   ],
   "source": [
    "# import matplotlib.pyplot as plt\n",
    "# import pandas as pd\n",
    "\n",
    "df = pd.read_csv(r'./data/Claims_by_Month.csv')\n",
    "\n",
    "plt.figure(figsize=(10, 4.2))\n",
    "x = range(len(df['Claims']))\n",
    "plt.plot(x, df['Claims'])\n",
    "plt.xticks(x, df['Month'])\n",
    "plt.xticks(rotation = 45) # Rotates X-Axis Ticks by 45-degrees\n",
    "\n",
    "plt.title('COVID Impact on Unemployment Claims', fontsize = 18)\n",
    "plt.ylabel('Claims (in millions)', fontsize = 15, color = 'b')\n",
    "plt.xlabel('Month of Claim', fontsize = 15, color = 'b')\n",
    "\n",
    "plt.xticks(fontsize = 12)\n",
    "plt.yticks(fontsize = 12)\n",
    "plt.show()"
   ]
  },
  {
   "cell_type": "markdown",
   "id": "e3ec5f24-11b7-414d-9da2-df81e936fe99",
   "metadata": {},
   "source": [
    "## Unemployment Claims\n",
    "\n",
    "### Unemployment Claims 2019"
   ]
  },
  {
   "cell_type": "code",
   "execution_count": 15,
   "id": "af37795e-e045-4720-b549-285ad60e8897",
   "metadata": {},
   "outputs": [
    {
     "data": {
      "image/png": "[encoded data removed]",
      "text/plain": [
       "<Figure size 432x288 with 1 Axes>"
      ]
     },
     "metadata": {
      "needs_background": "light"
     },
     "output_type": "display_data"
    }
   ],
   "source": [
    "import pandas as pd\n",
    "from matplotlib import pyplot as plt\n",
    "\n",
    "df = pd.read_csv (r'./data/Years_Cleaned.csv')\n",
    "\n",
    "data = df['2019_Claims']\n",
    "bins=10\n",
    "\n",
    "plt.hist(df['2019_Claims'], bins, color = 'red', alpha = 0.8, edgecolor = 'black')\n",
    "\n",
    "plt.title('2019 Unemployment Claims', fontsize = 18)\n",
    "plt.xlabel('Claims (in millions)', fontsize = 15, color = 'b')\n",
    "plt.xlim(0, 12)\n",
    "plt.ylim(0, 40)\n",
    "plt.ylabel('Total States', fontsize = 15, color = 'b')\n",
    "\n",
    "plt.xticks(fontsize = 12)\n",
    "plt.yticks(fontsize = 12)\n",
    "\n",
    "plt.show()"
   ]
  },
  {
   "cell_type": "markdown",
   "id": "4590b39e-0af2-4116-915f-d787734da197",
   "metadata": {},
   "source": [
    "### Unemployment Claims 2020"
   ]
  },
  {
   "cell_type": "code",
   "execution_count": 16,
   "id": "9e7750dc-9f61-4535-88e9-28a53b1fc7f9",
   "metadata": {},
   "outputs": [
    {
     "data": {
      "image/png": "[encoded data removed]",
      "text/plain": [
       "<Figure size 432x288 with 1 Axes>"
      ]
     },
     "metadata": {
      "needs_background": "light"
     },
     "output_type": "display_data"
    }
   ],
   "source": [
    "# import pandas as pd\n",
    "# from matplotlib import pyplot as plt\n",
    "\n",
    "df = pd.read_csv(r'./data/Years_Cleaned.csv')\n",
    "\n",
    "data = df['2020_Claims']\n",
    "bins=10\n",
    "\n",
    "plt.hist(df['2020_Claims'], bins, color = 'red', alpha = 0.8, edgecolor = 'black')\n",
    "\n",
    "plt.title('2020 Unemployment Claims', fontsize = 18)\n",
    "plt.xlabel('Claims (in millions)', fontsize = 15, color = 'b')\n",
    "plt.xlim(0, 12)\n",
    "plt.ylim(0, 40)\n",
    "plt.ylabel('Total States', fontsize = 15, color = 'b')\n",
    "\n",
    "plt.xticks(fontsize = 12)\n",
    "plt.yticks(fontsize = 12)\n",
    "\n",
    "plt.show()"
   ]
  },
  {
   "cell_type": "code",
   "execution_count": null,
   "id": "d3387e7c-6da7-4274-ad31-f1170b8758a8",
   "metadata": {},
   "outputs": [],
   "source": []
  }
 ],
 "metadata": {
  "kernelspec": {
   "display_name": "Python 3",
   "language": "python",
   "name": "python3"
  },
  "language_info": {
   "codemirror_mode": {
    "name": "ipython",
    "version": 3
   },
   "file_extension": ".py",
   "mimetype": "text/x-python",
   "name": "python",
   "nbconvert_exporter": "python",
   "pygments_lexer": "ipython3",
   "version": "3.8.8"
  }
 },
 "nbformat": 4,
 "nbformat_minor": 5
}
